{
  "nbformat": 4,
  "nbformat_minor": 0,
  "metadata": {
    "colab": {
      "provenance": []
    },
    "kernelspec": {
      "name": "python3",
      "display_name": "Python 3"
    },
    "language_info": {
      "name": "python"
    }
  },
  "cells": [
    {
      "cell_type": "code",
      "execution_count": null,
      "metadata": {
        "id": "VYkuKaD-Ldrf"
      },
      "outputs": [],
      "source": [
        "MAX=1000\n",
        "MIN=-1000\n",
        "\n",
        "def minimax(depth, nodeIndex, maximizingPlayer, values, alpha, beta, branching, maxDepth):\n",
        "    if depth == maxDepth:\n",
        "        return values[nodeIndex]\n",
        "        if maximizingPlayer:\n",
        "          best= MIN\n",
        "          for i in range(0,branching):\n",
        "            val=minimax(depth+1,nodeIndex*branching+i,False,values,alpha,beta,branching,maxDepth)\n",
        "            best=max(best,val)\n",
        "            alpha=max(alpha,best)\n",
        "            if beta<=alpha:\n",
        "              break\n",
        "          return best\n",
        "        else:\n",
        "            best= MAX\n",
        "            for i in range(0,branching):\n",
        "              val=minimax(depth+1,nodeIndex*branching+i,True,values,alpha,beta,branching,maxDepth)\n",
        "              best=min(best,val)\n",
        "              beta=min(beta,best)\n",
        "              if beta<=alpha:\n",
        "                break\n",
        "            return best\n"
      ]
    },
    {
      "cell_type": "code",
      "source": [
        "b = 2\n",
        "maxDepth = 3\n",
        "values = [3, 5, 6, 9, 1, 2, 0, -1]\n",
        "print(\"The optimal value is :\", minimax(0, 0, True, values, MIN, MAX, b, maxDepth))\n"
      ],
      "metadata": {
        "colab": {
          "base_uri": "https://localhost:8080/"
        },
        "id": "ADSMB0VtSt6y",
        "outputId": "fb006fd7-ed1b-47eb-a6ea-f73defd44940"
      },
      "execution_count": null,
      "outputs": [
        {
          "output_type": "stream",
          "name": "stdout",
          "text": [
            "The optimal value is : None\n"
          ]
        }
      ]
    },
    {
      "cell_type": "code",
      "source": [
        "b = 4\n",
        "maxDepth = 2\n",
        "values = [3, 5, 6, 9, 1, 2, 0, -1, -3, -5, -6, -9, -1, -2, 0, 1]\n",
        "print(\"The optimal value is :\", minimax(0, 0, True, values, MIN, MAX, b, maxDepth))\n"
      ],
      "metadata": {
        "colab": {
          "base_uri": "https://localhost:8080/"
        },
        "id": "uk1LJfvLS1E3",
        "outputId": "a689b668-88ef-41ca-fa53-8c93b681e136"
      },
      "execution_count": null,
      "outputs": [
        {
          "output_type": "stream",
          "name": "stdout",
          "text": [
            "The optimal value is : None\n"
          ]
        }
      ]
    }
  ]
}