{
  "nbformat": 4,
  "nbformat_minor": 0,
  "metadata": {
    "colab": {
      "provenance": []
    },
    "kernelspec": {
      "name": "python3",
      "display_name": "Python 3"
    },
    "language_info": {
      "name": "python"
    }
  },
  "cells": [
    {
      "cell_type": "code",
      "execution_count": null,
      "metadata": {
        "id": "8nVEJJPwISqn"
      },
      "outputs": [],
      "source": [
        "import queue\n",
        "\n",
        "def getHueristics():\n",
        "  heuristics={}\n",
        "  f=open(\"/content/heuristic.txt\")\n",
        "  for i in f.readlines():\n",
        "    node_heuristic_val=i.split()\n",
        "    heuristics[node_heuristic_val[0]]=int(node_heuristic_val[1])\n",
        "  return heuristics"
      ]
    },
    {
      "cell_type": "code",
      "source": [
        "def createGraph():\n",
        "  graph={}\n",
        "  file=open(\"/content/citiesgraph.txt\")\n",
        "  for i in file.readlines():\n",
        "    node_val=i.split()\n",
        "\n",
        "    if node_val[0] in graph and node_val[1] in graph:\n",
        "      c= graph.get(node_val[0])\n",
        "      c.append([node_val[1],node_val[2]])\n",
        "      graph.update({node_val[0]:c})\n",
        "\n",
        "      c=graph.get(node_val[1])\n",
        "      c.append([node_val[0],node_val[2]])\n",
        "      graph.update({node_val[1]:c})\n",
        "\n",
        "    elif node_val[0] in graph:\n",
        "      c= graph.get(node_val[0])\n"
      ],
      "metadata": {
        "id": "P2IfuQa9MgM8"
      },
      "execution_count": null,
      "outputs": []
    },
    {
      "cell_type": "code",
      "source": [
        "heuristic=getHueristics()\n",
        "graph=createGraph()\n",
        "#city,citiesCode=getCity()\n",
        "\n",
        "cityName=\"Zerind\" #citiesCode[inputCode]\n",
        "gbfs=GBFS(cityName,heuristic,graph)\n",
        "astar=Astar(cityName,heuristic,graph)\n",
        "print(\"GBFS=>\",gbfs)\n",
        "print(\"ASTAR=>\",astar)"
      ],
      "metadata": {
        "id": "DgHGYGSKOvxe"
      },
      "execution_count": null,
      "outputs": []
    }
  ]
}