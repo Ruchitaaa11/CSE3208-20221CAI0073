{
  "nbformat": 4,
  "nbformat_minor": 0,
  "metadata": {
    "colab": {
      "provenance": [],
      "gpuType": "T4"
    },
    "kernelspec": {
      "name": "python3",
      "display_name": "Python 3"
    },
    "language_info": {
      "name": "python"
    },
    "accelerator": "GPU"
  },
  "cells": [
    {
      "cell_type": "code",
      "source": [
        "!pip install python-constraint"
      ],
      "metadata": {
        "colab": {
          "base_uri": "https://localhost:8080/"
        },
        "id": "HWDKiwS8RiGP",
        "outputId": "95b69f2a-7816-47ba-9cb8-3c6d5ee6d858"
      },
      "execution_count": null,
      "outputs": [
        {
          "output_type": "stream",
          "name": "stdout",
          "text": [
            "Collecting python-constraint\n",
            "  Downloading python-constraint-1.4.0.tar.bz2 (18 kB)\n",
            "  Preparing metadata (setup.py) ... \u001b[?25l\u001b[?25hdone\n",
            "Building wheels for collected packages: python-constraint\n",
            "  Building wheel for python-constraint (setup.py) ... \u001b[?25l\u001b[?25hdone\n",
            "  Created wheel for python-constraint: filename=python_constraint-1.4.0-py2.py3-none-any.whl size=24059 sha256=36370c5f5e2cb31cf13a6e4cdab392fae1e92e87e9f1f230bc86d488becf57d1\n",
            "  Stored in directory: /root/.cache/pip/wheels/2e/f2/2b/cb08b5fe129e4f69b7033061f256e5c551b0aa1160c2872aee\n",
            "Successfully built python-constraint\n",
            "Installing collected packages: python-constraint\n",
            "Successfully installed python-constraint-1.4.0\n"
          ]
        }
      ]
    },
    {
      "cell_type": "code",
      "source": [
        "#List of problems to solve today:\n",
        "#1. Magic square problem\n",
        "#2. Map Colouring\n",
        "#3. Map Colouring with File (Homework)\n",
        "\n",
        "from constraint import *\n",
        "n = 4\n",
        "problem = Problem()\n",
        "\n",
        "#Creation of domain and variables\n",
        "problem.addVariables(range(0, n*n), range(1, n*n + 1))\n",
        "\n",
        "#Addition of uniqueness constraint\n",
        "problem.addConstraint(AllDifferentConstraint(), range(0, n*n))\n",
        "\n",
        "exactSum = (n*((n*n)+1))/2\n",
        "\n",
        "#Addition of row-sum constraint\n",
        "for row in range(n):\n",
        "  problem.addConstraint(ExactSumConstraint(exactSum), [row * n + i for i in range(4)])\n",
        "\n",
        "#Addition of column-sum constraint\n",
        "for column in range(n):\n",
        "  problem.addConstraint(ExactSumConstraint(exactSum), [column * n + i for i in range(4)])\n",
        "\n",
        "solution = problem.getSolution()\n",
        "\n",
        "def printMagicSquare(solution, n):\n",
        "  for i in range(0, n):\n",
        "    for j in range(0, n):\n",
        "      key = (n * i) + j\n",
        "      print(solution[key], end=\"\\t\")\n",
        "    print(\"\\n\")\n",
        "\n",
        "printMagicSquare(solution, n)\n"
      ],
      "metadata": {
        "colab": {
          "base_uri": "https://localhost:8080/"
        },
        "id": "7V8FDK8BU2TC",
        "outputId": "6b38731e-3360-47f6-a3e2-7636c2caa75d"
      },
      "execution_count": null,
      "outputs": [
        {
          "output_type": "stream",
          "name": "stdout",
          "text": [
            "16\t15\t2\t1\t\n",
            "\n",
            "3\t14\t13\t4\t\n",
            "\n",
            "12\t11\t6\t5\t\n",
            "\n",
            "7\t8\t9\t10\t\n",
            "\n"
          ]
        }
      ]
    },
    {
      "cell_type": "code",
      "source": [
        "mapColouringProblem = Problem()\n",
        "colourList = [\"RED\", \"GREEN\", \"BLUE\"]\n",
        "regionsList = [\"WA\",\"NT\",\"SA\",\"Q\",\"NSW\",\"V\",\"T\"]\n",
        "mapColouringProblem.addVariables(regionsList, colourList)\n",
        "\n",
        "mapColouringProblem.addConstraint(AllDifferentConstraint(),[\"WA\", \"SA\"])\n",
        "mapColouringProblem.addConstraint(AllDifferentConstraint(),[\"SA\", \"NT\"])\n",
        "mapColouringProblem.addConstraint(AllDifferentConstraint(),[\"SA\", \"Q\"])\n",
        "mapColouringProblem.addConstraint(AllDifferentConstraint(),[\"SA\", \"NSW\"])\n",
        "mapColouringProblem.addConstraint(AllDifferentConstraint(),[\"SA\", \"V\"])\n",
        "\n",
        "mapColouringProblem.addConstraint(AllDifferentConstraint(),[\"WA\", \"NT\"])\n",
        "mapColouringProblem.addConstraint(AllDifferentConstraint(),[\"NT\", \"Q\"])\n",
        "mapColouringProblem.addConstraint(AllDifferentConstraint(),[\"Q\", \"NSW\"])\n",
        "mapColouringProblem.addConstraint(AllDifferentConstraint(),[\"NSW\", \"V\"])\n",
        "\n",
        "solution = mapColouringProblem.getSolution()\n",
        "print(solution)"
      ],
      "metadata": {
        "colab": {
          "base_uri": "https://localhost:8080/"
        },
        "id": "giZj2yI5d5v6",
        "outputId": "aa6d0284-08f6-4fae-ea5a-569e8635ca84"
      },
      "execution_count": null,
      "outputs": [
        {
          "output_type": "stream",
          "name": "stdout",
          "text": [
            "{'SA': 'BLUE', 'NSW': 'GREEN', 'Q': 'RED', 'NT': 'GREEN', 'V': 'RED', 'WA': 'RED', 'T': 'BLUE'}\n"
          ]
        }
      ]
    }
  ]
}