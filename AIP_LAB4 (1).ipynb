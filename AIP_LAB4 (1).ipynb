{
  "nbformat": 4,
  "nbformat_minor": 0,
  "metadata": {
    "colab": {
      "provenance": []
    },
    "kernelspec": {
      "name": "python3",
      "display_name": "Python 3"
    },
    "language_info": {
      "name": "python"
    }
  },
  "cells": [
    {
      "cell_type": "code",
      "execution_count": null,
      "metadata": {
        "colab": {
          "base_uri": "https://localhost:8080/",
          "height": 289
        },
        "id": "n2O1kd34JjSH",
        "outputId": "17d6cdd3-082c-4ce0-c4e8-81750068f631"
      },
      "outputs": [
        {
          "output_type": "stream",
          "name": "stdout",
          "text": [
            "Requirement already satisfied: decorator in /usr/local/lib/python3.10/dist-packages (4.4.2)\n",
            "Collecting decorator\n",
            "  Downloading decorator-5.1.1-py3-none-any.whl.metadata (4.0 kB)\n",
            "Downloading decorator-5.1.1-py3-none-any.whl (9.1 kB)\n",
            "Installing collected packages: decorator\n",
            "\u001b[31mERROR: pip's dependency resolver does not currently take into account all the packages that are installed. This behaviour is the source of the following dependency conflicts.\n",
            "ipython 7.34.0 requires jedi>=0.16, which is not installed.\n",
            "moviepy 1.0.3 requires decorator<5.0,>=4.0.2, but you have decorator 5.1.1 which is incompatible.\u001b[0m\u001b[31m\n",
            "\u001b[0mSuccessfully installed decorator-5.1.1\n"
          ]
        },
        {
          "output_type": "display_data",
          "data": {
            "application/vnd.colab-display-data+json": {
              "pip_warning": {
                "packages": [
                  "decorator"
                ]
              },
              "id": "32684c638f9043d5a58ef2a4be9db42b"
            }
          },
          "metadata": {}
        }
      ],
      "source": [
        "pip install -U decorator --user"
      ]
    },
    {
      "cell_type": "code",
      "source": [
        "pip show decorator"
      ],
      "metadata": {
        "colab": {
          "base_uri": "https://localhost:8080/"
        },
        "id": "86wVpFC6KF6g",
        "outputId": "56f3fc80-9797-4539-9095-c12c6957ad54"
      },
      "execution_count": null,
      "outputs": [
        {
          "output_type": "stream",
          "name": "stdout",
          "text": [
            "Name: decorator\n",
            "Version: 5.1.1\n",
            "Summary: Decorators for Humans\n",
            "Home-page: https://github.com/micheles/decorator\n",
            "Author: Michele Simionato\n",
            "Author-email: michele.simionato@gmail.com\n",
            "License: new BSD License\n",
            "Location: /root/.local/lib/python3.10/site-packages\n",
            "Requires: \n",
            "Required-by: gcsfs, ipyparallel, ipython, librosa, moviepy, ratelim, tensorflow-probability\n"
          ]
        }
      ]
    },
    {
      "cell_type": "markdown",
      "source": [
        "Greedy best first search"
      ],
      "metadata": {
        "id": "VU7Zd8cpKXLP"
      }
    },
    {
      "cell_type": "code",
      "source": [
        "frontier=[]\n",
        "explored=[]\n",
        "ans=[]\n",
        "def greedy_best_first_search(nodes,edges,H,adj,initial_node,goal_node):\n",
        "  global frontier\n",
        "  global explored\n",
        "  global ans\n",
        "   #initial_node = nodes[0] # assuming first node is source node\n",
        "    #goal_node = nodes[-1] # assuming last node is goal_node\n",
        "\n",
        "\n",
        "  frontier.append((H[initial_node],initial_node))\n",
        "  if(initial_node == goal_node):\n",
        "      print(goal_node)\n",
        "      return True\n",
        "\n",
        "  while(frontier):\n",
        "      frontier.sort(key=lambda x:x[0]) # sorting frontier w.r.t heuristic values\n",
        "      #print(frontier)\n",
        "      node = frontier.pop(0)\n",
        "      ans.append(node[-1])\n",
        "      if node in explored:\n",
        "          continue\n",
        "\n",
        "      explored.append(node)\n",
        "      if node[-1] == goal_node:\n",
        "         print(' -> '.join(ans))\n",
        "         return True\n",
        "      frontier = []\n",
        "      #print(node[-1])\n",
        "      for i in adj[node[-1]]:\n",
        "          if i not in explored:\n",
        "             frontier.append((H[i[-1]],i[-1]))\n",
        "  return False\n",
        "\n",
        "\n",
        "#######################################################\n",
        "nodes = ['A','B','C','E','F','G','H','I']\n",
        "edges = [('A','C',118),('A','E',140),('A','B',75),('E','G',80),('E','F',90),('F','I',211),('G','H',97),('H','I',101)]\n",
        "H = dict([('A',366), ('B',374), ('C',329), ('D',244),('E',253),('F',178), ('G',193), ('H',98),('I',0)])\n",
        "adj = {\n",
        "    'A':[(118,'C'),(75,'B'),(140,'E')],\n",
        "    'B':[],\n",
        "    'C':[],\n",
        "    'E':[(90,'F'),(80,'G')],\n",
        "    'F':[(211,'I')],\n",
        "    'G':[(97,'H')],\n",
        "    'H':[(101,'I')],\n",
        "    'I':[]\n",
        "}\n",
        "import networkx as nx\n",
        "G1 = nx.DiGraph()\n",
        "G1.add_nodes_from(nodes)\n",
        "G1.add_weighted_edges_from(edges)\n",
        "weight = nx.get_edge_attributes(G1, 'weight')\n",
        "nx.draw(G1, pos=nx.spring_layout(G1), with_labels = True)\n",
        "nx.draw_networkx_edge_labels(G1,pos=nx.spring_layout(G1),edge_labels = weight)\n",
        "\n",
        "#####################################################################\n",
        "if greedy_best_first_search(nodes,edges,H,adj,nodes[0],nodes[-1]):\n",
        "    print('Goal reached')\n",
        "else:\n",
        "    print(\"Goal not reached\")\n",
        "\n",
        "######################################################################\n",
        "ans = []\n",
        "nodes = ['S','A','B','C','E','F','H','I','G']\n",
        "edges = [('S','A',3),('S','B',2),('A','C',4),('A','D',1),('B','E',3),('B','F',1),('E','H',5),('F','I',2),('F','G',3)]\n",
        "H = dict([('A',12), ('B',4), ('C',7), ('D',3),('E',8),('F',2), ('G',0), ('H',4),('I',9),('S',13)])\n",
        "adj = {\n",
        "    'S':[(3,'A'),(2,'B')],\n",
        "    'A':[(4,'C'),(1,'D')],\n",
        "    'B':[(3,'E'),(1,'F')],\n",
        "    'C':[],\n",
        "    'D':[],\n",
        "    'E':[(5,'H')],\n",
        "    'F':[(2,'I'),(3,'G')],\n",
        "    'G':[],\n",
        "    'H':[],\n",
        "    'I':[]\n",
        "}\n",
        "\n",
        "####################################################################\n",
        "if greedy_best_first_search(nodes,edges,H,adj,'S','G'):\n",
        "    print('Goal reached')\n",
        "else:\n",
        "    print(\"Goal not reached\")\n"
      ],
      "metadata": {
        "colab": {
          "base_uri": "https://localhost:8080/",
          "height": 585
        },
        "id": "XRLpKQmGKPrk",
        "outputId": "f6480272-4d73-429a-fe74-097e4fe61bdd"
      },
      "execution_count": null,
      "outputs": [
        {
          "output_type": "stream",
          "name": "stdout",
          "text": [
            "A -> E -> F -> I\n",
            "Goal reached\n",
            "S -> B -> F -> G\n",
            "Goal reached\n"
          ]
        },
        {
          "output_type": "display_data",
          "data": {
            "text/plain": [
              "<Figure size 640x480 with 1 Axes>"
            ],
            "image/png": "[encoded data removed]"
          },
          "metadata": {}
        }
      ]
    }
  ]
}