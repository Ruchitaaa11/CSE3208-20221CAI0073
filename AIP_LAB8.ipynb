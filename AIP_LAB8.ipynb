{
  "nbformat": 4,
  "nbformat_minor": 0,
  "metadata": {
    "colab": {
      "provenance": []
    },
    "kernelspec": {
      "name": "python3",
      "display_name": "Python 3"
    },
    "language_info": {
      "name": "python"
    }
  },
  "cells": [
    {
      "cell_type": "markdown",
      "source": [
        "1. Write a cryptarithmetic solver. It should take as input an equation (Eg. TWO+TWO=FOUR) and return the variable assignment for the letters."
      ],
      "metadata": {
        "id": "_91QREz_TbNE"
      }
    },
    {
      "cell_type": "code",
      "source": [
        "import itertools\n",
        "\n",
        "def solve_cryptarithmetic(equation):\n",
        "    # Split equation into left and right parts\n",
        "    left_part, right_part = equation.replace(\" \", \"\").split(\"=\")\n",
        "\n",
        "    # Extract the words from the equation\n",
        "    left_words = left_part.split(\"+\")\n",
        "    right_word = right_part\n",
        "\n",
        "    # Find unique characters\n",
        "    unique_chars = set(\"\".join(left_words) + right_word)\n",
        "\n",
        "    if len(unique_chars) > 10:\n",
        "        return \"Too many unique characters for digits 0-9\"\n",
        "\n",
        "    # Create a list of digits from 0 to 9\n",
        "    digits = list(range(10))\n",
        "\n",
        "    # Generate all possible digit assignments for the unique characters\n",
        "    for perm in itertools.permutations(digits, len(unique_chars)):\n",
        "        char_to_digit = dict(zip(unique_chars, perm))\n",
        "\n",
        "        # Check if the assignment satisfies the equation\n",
        "        left_values = [int(\"\".join(str(char_to_digit[c]) for c in word)) for word in left_words]\n",
        "        right_value = int(\"\".join(str(char_to_digit[c]) for c in right_word))\n",
        "\n",
        "        # Ensure no number starts with a zero\n",
        "        if any(str(char_to_digit[word[0]]) == '0' for word in left_words + [right_word]):\n",
        "            continue\n",
        "\n",
        "        if sum(left_values) == right_value:\n",
        "            return char_to_digit\n",
        "\n",
        "    return \"No solution found\"\n",
        "\n",
        "# Example usage\n",
        "equation = \"BABY + BEAR = TEDDY\"\n",
        "solution = solve_cryptarithmetic(equation)\n",
        "print(solution)\n"
      ],
      "metadata": {
        "colab": {
          "base_uri": "https://localhost:8080/"
        },
        "id": "rV6iHMXjU8eK",
        "outputId": "32cee7f6-17e8-4dd0-ecbd-bdaf6d4b8c5a"
      },
      "execution_count": null,
      "outputs": [
        {
          "output_type": "stream",
          "name": "stdout",
          "text": [
            "{'D': 2, 'T': 1, 'B': 8, 'Y': 3, 'E': 7, 'A': 4, 'R': 0}\n"
          ]
        }
      ]
    },
    {
      "cell_type": "markdown",
      "source": [
        "Write a Produku solver. A Produku is a type of Sudoku, except that you will have, in addition to the regular Sudoku constraints, a set of number groups, whose product, will be given more details will be given later today."
      ],
      "metadata": {
        "id": "5e2YtlEEVqLL"
      }
    },
    {
      "cell_type": "code",
      "source": [
        "\n",
        "import numpy as np\n",
        "from itertools import product\n",
        "\n",
        "class ProdokuSolver:\n",
        "    def __init__(self, grid, products):\n",
        "        self.grid = np.array(grid)\n",
        "        self.products = products  # {group: product_value}\n",
        "\n",
        "    def is_valid(self, row, col, num):\n",
        "        # Check the row\n",
        "        if num in self.grid[row]:\n",
        "            return False\n",
        "        # Check the column\n",
        "        if num in self.grid[:, col]:\n",
        "            return False\n",
        "        # Check the 3x3 box\n",
        "        box_row, box_col = row // 3 * 3, col // 3 * 3\n",
        "        if num in self.grid[box_row:box_row + 3, box_col:box_col + 3]:\n",
        "            return False\n",
        "        return True\n",
        "\n",
        "    def check_products(self):\n",
        "        for group, expected_product in self.products.items():\n",
        "            product_value = 1\n",
        "            for (r, c) in group:\n",
        "                if self.grid[r, c] != 0:  # Only consider filled cells\n",
        "                    product_value *= self.grid[r, c]\n",
        "            # Check if the product so far matches\n",
        "            if product_value > expected_product:\n",
        "                return False\n",
        "            if all(self.grid[r, c] != 0 for (r, c) in group) and product_value != expected_product:\n",
        "                return False\n",
        "        return True\n",
        "\n",
        "    def solve(self):\n",
        "        empty = np.argwhere(self.grid == 0)\n",
        "        if not empty.size:\n",
        "            return True  # Puzzle solved\n",
        "\n",
        "        row, col = empty[0]\n",
        "\n",
        "        for num in range(1, 10):\n",
        "            if self.is_valid(row, col, num):\n",
        "                self.grid[row, col] = num\n",
        "                if self.check_products():\n",
        "                    if self.solve():\n",
        "                        return True\n",
        "                self.grid[row, col] = 0  # Backtrack\n",
        "\n",
        "        return False\n",
        "\n",
        "    def print_grid(self):\n",
        "        for row in self.grid:\n",
        "            print(\" \".join(str(num) for num in row))\n",
        "\n",
        "# Example usage\n",
        "initial_grid = [\n",
        "    [5, 3, 0, 0, 7, 0, 0, 0, 0],\n",
        "    [6, 0, 0, 1, 9, 5, 0, 0, 0],\n",
        "    [0, 9, 8, 0, 0, 0, 0, 6, 0],\n",
        "    [8, 0, 0, 0, 6, 0, 0, 0, 3],\n",
        "    [4, 0, 0, 8, 0, 3, 0, 0, 1],\n",
        "    [7, 0, 0, 0, 2, 0, 0, 0, 6],\n",
        "    [0, 6, 0, 0, 0, 0, 2, 8, 0],\n",
        "    [0, 0, 0, 4, 1, 9, 0, 0, 5],\n",
        "    [0, 0, 0, 0, 8, 0, 0, 7, 9]\n",
        "]\n",
        "\n",
        "# Example product groups\n",
        "products = {\n",
        "    # Define groups of cells as tuples of (row, col) and their required product\n",
        "    # For example, the product of the first two cells\n",
        "    frozenset([(0, 0), (0, 1)]): 15  # This means grid[0][0] * grid[0][1] = 15\n",
        "}\n",
        "\n",
        "solver = ProdokuSolver(initial_grid, products)\n",
        "if solver.solve():\n",
        "    solver.print_grid()\n",
        "else:\n",
        "    print(\"No solution found.\")\n",
        "\n"
      ],
      "metadata": {
        "id": "vA6HSRQFWYly",
        "colab": {
          "base_uri": "https://localhost:8080/"
        },
        "outputId": "c7ce45c2-659e-47bd-e930-af728c448afc"
      },
      "execution_count": null,
      "outputs": [
        {
          "output_type": "stream",
          "name": "stdout",
          "text": [
            "5 3 4 6 7 8 9 1 2\n",
            "6 7 2 1 9 5 3 4 8\n",
            "1 9 8 3 4 2 5 6 7\n",
            "8 5 9 7 6 1 4 2 3\n",
            "4 2 6 8 5 3 7 9 1\n",
            "7 1 3 9 2 4 8 5 6\n",
            "9 6 1 5 3 7 2 8 4\n",
            "2 8 7 4 1 9 6 3 5\n",
            "3 4 5 2 8 6 1 7 9\n"
          ]
        }
      ]
    }
  ]
}