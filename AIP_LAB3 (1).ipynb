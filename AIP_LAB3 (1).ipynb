{
  "nbformat": 4,
  "nbformat_minor": 0,
  "metadata": {
    "colab": {
      "provenance": []
    },
    "kernelspec": {
      "name": "python3",
      "display_name": "Python 3"
    },
    "language_info": {
      "name": "python"
    }
  },
  "cells": [
    {
      "cell_type": "markdown",
      "source": [
        "BFS"
      ],
      "metadata": {
        "id": "4XfEPfT7Zlgh"
      }
    },
    {
      "cell_type": "code",
      "execution_count": null,
      "metadata": {
        "colab": {
          "base_uri": "https://localhost:8080/"
        },
        "id": "_c-EVYtNGdaL",
        "outputId": "f7b35f52-d4c1-438e-ddc5-654e3ee64528"
      },
      "outputs": [
        {
          "output_type": "stream",
          "name": "stdout",
          "text": [
            "Following is the Breadth-First Search\n"
          ]
        }
      ],
      "source": [
        "#Program-BFS\n",
        "\n",
        "Graph = {\n",
        "  '5' : ['3','7'],\n",
        "  '3' : ['2', '4'],\n",
        "  '7' : ['8'],\n",
        "  '2' : [],\n",
        "  '4' : ['8'],\n",
        "  '8' : []\n",
        "}\n",
        "\n",
        "visited = [] #List for visited nodes\n",
        "queue = [] #Initialize a queue\n",
        "\n",
        "def bfs(visited, graph, node): #function for BFS\n",
        "  visited.append(node)\n",
        "  queue.append(node)\n",
        "\n",
        "while queue: #Creating loop to visit each node\n",
        "  m = queue.pop(0)\n",
        "  print (m, end = \" \")\n",
        "\n",
        "  for neighbour in Graph[m]:\n",
        "    if neighbour not in visited:\n",
        "      visited.append(neighbour)\n",
        "      queue.append(neighbour)\n",
        "\n",
        "#Driver code\n",
        "print(\"Following is the Breadth-First Search\")\n",
        "bfs(visited, Graph, '5') #function calling"
      ]
    },
    {
      "cell_type": "markdown",
      "source": [
        "DFS"
      ],
      "metadata": {
        "id": "UvW_c9NJM3L0"
      }
    },
    {
      "cell_type": "code",
      "source": [
        "#DFS\n",
        "# Using a Python dictionary to act as an adjacency list\n",
        "graph = {\n",
        "  '5' : ['3','7'],\n",
        "  '3' : ['2', '4'],\n",
        "  '7' : ['8'],\n",
        "  '2' : [],\n",
        "  '4' : ['8'],\n",
        "  '8' : []\n",
        "}\n",
        "\n",
        "visited = set() # Set to keep track of visited nodes of graph.\n",
        "\n",
        "def dfs(visited, graph, node):  #function for dfs\n",
        "    if node not in visited:\n",
        "        print (node)\n",
        "        visited.add(node)\n",
        "        for neighbour in graph[node]:\n",
        "            dfs(visited, graph, neighbour)\n",
        "\n",
        "# Driver Code\n",
        "print(\"Following is the Depth-First Search\")\n",
        "dfs(visited, graph, '5')"
      ],
      "metadata": {
        "colab": {
          "base_uri": "https://localhost:8080/"
        },
        "id": "Qg66bKDVM2tf",
        "outputId": "2fdf0a26-787a-4659-f26a-5db27e8361a5"
      },
      "execution_count": null,
      "outputs": [
        {
          "output_type": "stream",
          "name": "stdout",
          "text": [
            "Following is the Depth-First Search\n",
            "5\n",
            "3\n",
            "2\n",
            "4\n",
            "8\n",
            "7\n"
          ]
        }
      ]
    },
    {
      "cell_type": "markdown",
      "source": [
        "Uniform Cost Search"
      ],
      "metadata": {
        "id": "zk90REY1PWdn"
      }
    },
    {
      "cell_type": "code",
      "source": [
        "from sys import argv\n",
        "from heapq import heappush, heappop\n",
        "\n",
        "# Implementation of Uniform Cost Search\n",
        "\n",
        "# returns the minimum cost in a vector( if\n",
        "# there are multiple goal states)\n",
        "def  uniform_cost_search(goal, start):\n",
        "\n",
        "    # minimum cost upto\n",
        "    # goal state from starting\n",
        "    global graph,cost\n",
        "    answer = []\n",
        "\n",
        "    # create a priority queue\n",
        "    queue = []\n",
        "\n",
        "    # set the answer vector to max value\n",
        "    for i in range(len(goal)):\n",
        "        answer.append(10**8)\n",
        "\n",
        "    # insert the starting index\n",
        "    queue.append([0, start])\n",
        "\n",
        "    # map to store visited node\n",
        "    visited = {}\n",
        "\n",
        "    p = queue[-1]\n",
        "\n",
        "    # pop the element\n",
        "    del queue[-1]\n",
        "\n",
        "   # get the original value\n",
        "    p[0] *= -1\n",
        "\n",
        "    # check if the element is part of\n",
        "    # the goal list\n",
        "    if (p[1] in goal):\n",
        "\n",
        "            # get the position\n",
        "            index = goal.index(p[1])\n",
        "\n",
        "            # if a new goal is reached\n",
        "            if (answer[index] == 10**8):\n",
        "                count += 1\n",
        "\n",
        "            # if the cost is less\n",
        "            if (answer[index] > p[0]):\n",
        "                answer[index] = p[0]\n",
        "\n",
        "            # pop the element\n",
        "            del queue[-1]\n",
        "\n",
        "            queue = sorted(queue)\n",
        "            if (count == len(goal)):\n",
        "                return answer\n",
        "\n",
        "    # check for the non visited nodes\n",
        "    # which are adjacent to present node\n",
        "    if (p[1] not in visited):\n",
        "            for i in range(len(graph[p[1]])):\n",
        "\n",
        "                # value is multiplied by -1 so that\n",
        "                # least priority is at the top\n",
        "                queue.append( [(p[0] + cost[(p[1], graph[p[1]][i])])* -1, graph[p[1]][i]])\n",
        "\n",
        "    # mark as visited\n",
        "    visited[p[1]] = 1\n",
        "\n",
        "    return answer\n",
        "\n",
        "# main function\n",
        "if __name__ == '__main__':\n",
        "\n",
        "    # create the graph\n",
        "    graph,cost = [[] for i in range(8)],{}\n",
        "\n",
        "    # add edge\n",
        "    graph[0].append(1)\n",
        "    graph[0].append(3)\n",
        "    graph[3].append(1)\n",
        "    graph[3].append(6)\n",
        "    graph[3].append(4)\n",
        "    graph[1].append(6)\n",
        "    graph[4].append(2)\n",
        "    graph[4].append(5)\n",
        "    graph[2].append(1)\n",
        "    graph[5].append(2)\n",
        "    graph[5].append(6)\n",
        "    graph[6].append(4)\n",
        "\n",
        "    # add the cost\n",
        "    cost[(0, 1)] = 2\n",
        "    cost[(0, 3)] = 5\n",
        "    cost[(1, 6)] = 1\n",
        "    cost[(3, 1)] = 5\n",
        "    cost[(3, 6)] = 6\n",
        "    cost[(3, 4)] = 2\n",
        "    cost[(2, 1)] = 4\n",
        "    cost[(4, 2)] = 4\n",
        "    cost[(4, 5)] = 3\n",
        "    cost[(5, 2)] = 6\n",
        "    cost[(5, 6)] = 3\n",
        "    cost[(6, 4)] = 7\n",
        "\n",
        "    # goal state\n",
        "    goal = []\n",
        "\n",
        "    # set the goal\n",
        "    # there can be multiple goal states\n",
        "    goal.append(6)\n",
        "\n",
        "    # get the answer\n",
        "    answer = uniform_cost_search(goal, 0)\n",
        "\n",
        "    # print the answer\n",
        "    print(\"Minimum cost from 0 to 6 is = \",answer[0])"
      ],
      "metadata": {
        "id": "TN58fAFqPWCJ",
        "colab": {
          "base_uri": "https://localhost:8080/"
        },
        "outputId": "b3ec53ee-b330-45af-87a8-c1fd3263b5af"
      },
      "execution_count": null,
      "outputs": [
        {
          "output_type": "stream",
          "name": "stdout",
          "text": [
            "Minimum cost from 0 to 6 is =  100000000\n"
          ]
        }
      ]
    }
  ]
}